{
 "cells": [
  {
   "cell_type": "code",
   "execution_count": 1,
   "id": "10a408bc-35ca-49bc-82d4-1b9517ff4146",
   "metadata": {},
   "outputs": [],
   "source": [
    "import numpy as np\n"
   ]
  },
  {
   "cell_type": "code",
   "execution_count": 3,
   "id": "9bad75ea-ec4d-4d4a-a3ed-671e28ff044d",
   "metadata": {},
   "outputs": [
    {
     "data": {
      "text/plain": [
       "'2.1.2'"
      ]
     },
     "execution_count": 3,
     "metadata": {},
     "output_type": "execute_result"
    }
   ],
   "source": [
    "#3.1 \n",
    "import numpy as np \n",
    "np.__version__"
   ]
  },
  {
   "cell_type": "code",
   "execution_count": 5,
   "id": "c092326a-f871-4d1e-af47-45992ea1eeb0",
   "metadata": {},
   "outputs": [
    {
     "name": "stdout",
     "output_type": "stream",
     "text": [
      "[0 1 2 3 4 5 6 7 8 9]\n",
      "8\n",
      "int64\n",
      "[0 1 2 3 4 5 6 7 8 9]\n",
      "[0 1 2 3 4 5 6 7 8 9]\n",
      "[100   1 100   3 100   5 100   7 100   9]\n"
     ]
    }
   ],
   "source": [
    "#3.2 \n",
    "#1\n",
    "mang=[0,1,2,3,4,5,6,7,8,9]\n",
    "arr1 = np.array(mang)\n",
    "print (arr1)\n",
    "print (arr1.itemsize)\n",
    "print (arr1.dtype)\n",
    "#2\n",
    "arr_odd=arr1.copy()\n",
    "arr_even=arr1.copy()\n",
    "print (arr_odd)\n",
    "print (arr_even)\n",
    "#3 \n",
    "arr_update_1=arr1.copy()\n",
    "for i in range (len(arr_update_1)):\n",
    "    if arr_update_1[i]%2 ==0 :\n",
    "        arr_update_1[i]=100\n",
    "\n",
    "print (arr_update_1)"
   ]
  },
  {
   "cell_type": "code",
   "execution_count": 7,
   "id": "8d0a5753-20d9-4f85-b63f-1c7ac876bf79",
   "metadata": {},
   "outputs": [
    {
     "name": "stdout",
     "output_type": "stream",
     "text": [
      "[2. 2. 4. 4.]\n",
      "[1. 3. 3. 3. 5. 6.]\n",
      "[ 6.  9. 10.  8.  6.]\n"
     ]
    }
   ],
   "source": [
    "#3.3\n",
    "#1\n",
    "arr_a = np.array([1,2,3,2,3,4,3,4,5,6])\n",
    "arr_b = np.array([7,2,10,2,7,4,9,4,9,8])\n",
    "arr_c=np.array([])\n",
    "arr_d=np.array([])\n",
    "for i in arr_a:\n",
    "    if i in arr_b:\n",
    "        arr_c=np.append(arr_c,i)   \n",
    "print (arr_c)\n",
    "\n",
    "\n",
    "#2\n",
    "for i in arr_a:\n",
    "    if  i not in arr_b:\n",
    "        arr_d=np.append(arr_d,i)\n",
    "print (arr_d)\n",
    "#3\n",
    "arr_e=np.array([2,6,1,9,10,3,27,8,6,25,16])\n",
    "arr_f=np.array([])\n",
    "k=[5,6,7,8,9,10]\n",
    "for i in arr_e:\n",
    "    if i in k:\n",
    "        arr_f=np.append(arr_f,i)\n",
    "print (arr_f)"
   ]
  },
  {
   "cell_type": "code",
   "execution_count": 9,
   "id": "d2ee6ce4-583d-4543-8486-a8bf8cdba689",
   "metadata": {},
   "outputs": [
    {
     "name": "stdout",
     "output_type": "stream",
     "text": [
      "[24 23 22 21 20 19 18 17 16 15 14 13 12 11 10]\n",
      "[1. 2. 8. 2. 1. 3. 5.]\n",
      "[ 1.  2.  8.  2.  1.  3.  5. 10. 20.]\n",
      "[  1.   2.   8.   2.   1. 100.   3.   5.  10.  20.]\n"
     ]
    },
    {
     "data": {
      "text/plain": [
       "array([  2.,   1., 100.,   3.,   5.,  10.,  20.])"
      ]
     },
     "execution_count": 9,
     "metadata": {},
     "output_type": "execute_result"
    }
   ],
   "source": [
    "#3.4\n",
    "#1\n",
    "arr_zeros = np.zeros(10)\n",
    "arr_zeros[4]=1\n",
    "arr_zeros\n",
    "#2\n",
    "arr_h=np.array([i for i in range (10,25)])\n",
    "print (np.sort(arr_h)[::-1])\n",
    "#3\n",
    "arr_k=np.array([1,2,0,8,2,0,1,3,0,5,0])\n",
    "arr_l=np.array([])\n",
    "for i in arr_k:\n",
    "   if i !=0:\n",
    "      arr_l=np.append(arr_l,i)\n",
    "print (arr_l)\n",
    "#4\n",
    "arr_l=np.append(arr_l,10)\n",
    "arr_l=np.append(arr_l,20)\n",
    "print (arr_l)\n",
    "#5\n",
    "arr_l=np.insert(arr_l,5,100)\n",
    "print (arr_l)\n",
    "#6\n",
    "arr_l=np.delete(arr_l,0)\n",
    "arr_l=np.delete(arr_l,0)\n",
    "arr_l=np.delete(arr_l,0)\n",
    "arr_l"
   ]
  },
  {
   "cell_type": "code",
   "execution_count": 11,
   "id": "fb8e363a-257a-4625-92cd-29f5b43af9b7",
   "metadata": {},
   "outputs": [
    {
     "name": "stdout",
     "output_type": "stream",
     "text": [
      "[[0 1 2]\n",
      " [3 4 5]\n",
      " [6 7 8]]\n",
      "[[2 1 0]\n",
      " [5 4 3]\n",
      " [8 7 6]]\n",
      "[[5 4 3]\n",
      " [2 1 0]\n",
      " [8 7 6]]\n",
      "[[8 7 6]\n",
      " [2 1 0]\n",
      " [5 4 3]]\n",
      "[[3 4 5]\n",
      " [0 1 2]\n",
      " [6 7 8]]\n"
     ]
    }
   ],
   "source": [
    "#3.6\n",
    "#1\n",
    "arr=np.full((3,3),True,bool)\n",
    "arr\n",
    "#2\n",
    "arr_ID=np.array([0,1,2,3,4,5,6,7,8])\n",
    "arr_ID2=arr_ID.reshape((3,3))\n",
    "print (arr_ID2)\n",
    "#3\n",
    "arr_ID2[:,[0,2]]=arr_ID2[:,[2,0]] \n",
    "print (arr_ID2)\n",
    "#4\n",
    "arr_ID2[[0,1],:]=arr_ID2[[1,0],:] \n",
    "print (arr_ID2)\n",
    "#5\n",
    "print (arr_ID2[::-1])\n",
    "print (arr_ID2[:,::-1])"
   ]
  },
  {
   "cell_type": "code",
   "execution_count": null,
   "id": "894b4845-bcd9-4abf-8c11-5d79d671a630",
   "metadata": {},
   "outputs": [],
   "source": []
  }
 ],
 "metadata": {
  "kernelspec": {
   "display_name": "Python 3 (ipykernel)",
   "language": "python",
   "name": "python3"
  },
  "language_info": {
   "codemirror_mode": {
    "name": "ipython",
    "version": 3
   },
   "file_extension": ".py",
   "mimetype": "text/x-python",
   "name": "python",
   "nbconvert_exporter": "python",
   "pygments_lexer": "ipython3",
   "version": "3.12.4"
  }
 },
 "nbformat": 4,
 "nbformat_minor": 5
}
