{
 "cells": [
  {
   "cell_type": "code",
   "execution_count": 5,
   "metadata": {},
   "outputs": [],
   "source": [
    "import pandas as pd\n",
    "import numpy as np"
   ]
  },
  {
   "cell_type": "code",
   "execution_count": 6,
   "metadata": {},
   "outputs": [
    {
     "name": "stdout",
     "output_type": "stream",
     "text": [
      "Min: 1.104532015782972\n",
      "25th percentile: 4.769674121909576\n",
      "Median: 11.527575971511613\n",
      "75th percentile: 15.074875533526207\n",
      "Max: 24.452020745620977\n"
     ]
    }
   ],
   "source": [
    "\n",
    "ser = pd.Series(np.random.normal(10, 5, 25))\n",
    "\n",
    "# 1. Giá trị tối thiểu\n",
    "min_val = ser.min()\n",
    "# 2. Phần trăm 25\n",
    "percentile_25 = ser.quantile(0.25)\n",
    "# 3. Trung vị\n",
    "median = ser.median()\n",
    "# 4. Phần trăm 75\n",
    "percentile_75 = ser.quantile(0.75)\n",
    "# 5. Giá trị tối đa\n",
    "max_val = ser.max()\n",
    "\n",
    "print(\"Min:\", min_val)\n",
    "print(\"25th percentile:\", percentile_25)\n",
    "print(\"Median:\", median)\n",
    "print(\"75th percentile:\", percentile_75)\n",
    "print(\"Max:\", max_val)\n"
   ]
  }
 ],
 "metadata": {
  "kernelspec": {
   "display_name": "Python 3",
   "language": "python",
   "name": "python3"
  },
  "language_info": {
   "codemirror_mode": {
    "name": "ipython",
    "version": 3
   },
   "file_extension": ".py",
   "mimetype": "text/x-python",
   "name": "python",
   "nbconvert_exporter": "python",
   "pygments_lexer": "ipython3",
   "version": "3.12.0"
  }
 },
 "nbformat": 4,
 "nbformat_minor": 2
}
