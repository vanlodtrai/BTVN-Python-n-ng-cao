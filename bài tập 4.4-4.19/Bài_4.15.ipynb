{
 "cells": [
  {
   "cell_type": "code",
   "execution_count": 2,
   "metadata": {},
   "outputs": [],
   "source": [
    "import pandas as pd"
   ]
  },
  {
   "cell_type": "code",
   "execution_count": 3,
   "metadata": {},
   "outputs": [],
   "source": [
    "ser = pd.Series([\"how\", \"to\", \"kick\", \"ass?!\"])\n"
   ]
  },
  {
   "cell_type": "code",
   "execution_count": 4,
   "metadata": {},
   "outputs": [
    {
     "name": "stdout",
     "output_type": "stream",
     "text": [
      "Kết quả chuyển đổi thành chữ in hoa:\n",
      "0      HOW\n",
      "1       TO\n",
      "2     KICK\n",
      "3    ASS?!\n",
      "dtype: object\n"
     ]
    }
   ],
   "source": [
    "# Chuyển đổi chữ thường thành chữ in hoa\n",
    "result = ser.str.upper()\n",
    "\n",
    "print(\"Kết quả chuyển đổi thành chữ in hoa:\")\n",
    "print(result)\n"
   ]
  }
 ],
 "metadata": {
  "kernelspec": {
   "display_name": "Python 3",
   "language": "python",
   "name": "python3"
  },
  "language_info": {
   "codemirror_mode": {
    "name": "ipython",
    "version": 3
   },
   "file_extension": ".py",
   "mimetype": "text/x-python",
   "name": "python",
   "nbconvert_exporter": "python",
   "pygments_lexer": "ipython3",
   "version": "3.12.0"
  }
 },
 "nbformat": 4,
 "nbformat_minor": 2
}
