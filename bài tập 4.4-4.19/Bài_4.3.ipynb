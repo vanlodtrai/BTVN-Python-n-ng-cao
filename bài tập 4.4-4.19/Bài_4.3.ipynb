{
 "cells": [
  {
   "cell_type": "code",
   "execution_count": 1,
   "metadata": {},
   "outputs": [
    {
     "name": "stdout",
     "output_type": "stream",
     "text": [
      "DataFrame kết nối từ 2 Series:\n",
      "   col1  col2\n",
      "0    10     1\n",
      "1     9     2\n",
      "2     8     3\n",
      "3     7     4\n",
      "4     6     5\n"
     ]
    }
   ],
   "source": [
    "import pandas as pd\n",
    "import numpy as np\n",
    "\n",
    "# Tạo hai Series\n",
    "ser1 = pd.Series([10, 9, 8, 7, 6])\n",
    "ser2 = pd.Series([1, 2, 3, 4, 5])\n",
    "\n",
    "# Kết nối các Series này để tạo thành DataFrame\n",
    "df = pd.DataFrame({'col1': ser1, 'col2': ser2})\n",
    "print(\"DataFrame kết nối từ 2 Series:\")\n",
    "print(df)\n"
   ]
  }
 ],
 "metadata": {
  "kernelspec": {
   "display_name": "Python 3",
   "language": "python",
   "name": "python3"
  },
  "language_info": {
   "codemirror_mode": {
    "name": "ipython",
    "version": 3
   },
   "file_extension": ".py",
   "mimetype": "text/x-python",
   "name": "python",
   "nbconvert_exporter": "python",
   "pygments_lexer": "ipython3",
   "version": "3.12.0"
  }
 },
 "nbformat": 4,
 "nbformat_minor": 2
}
