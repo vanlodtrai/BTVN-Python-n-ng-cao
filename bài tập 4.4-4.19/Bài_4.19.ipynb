{
 "cells": [
  {
   "cell_type": "code",
   "execution_count": 1,
   "metadata": {},
   "outputs": [],
   "source": [
    "import numpy as np\n",
    "import pandas as pd"
   ]
  },
  {
   "cell_type": "code",
   "execution_count": 2,
   "metadata": {},
   "outputs": [],
   "source": [
    "fruit = pd.Series(np.random.choice(['apple', 'banana', 'carrot'], 10))\n",
    "weights = pd.Series(np.linspace(1, 10, 10)) \n"
   ]
  },
  {
   "cell_type": "code",
   "execution_count": null,
   "metadata": {},
   "outputs": [
    {
     "name": "stdout",
     "output_type": "stream",
     "text": [
      "Danh sách loại quả trong fruit:\n",
      "['banana', 'banana', 'banana', 'banana', 'apple', 'apple', 'apple', 'banana', 'banana', 'apple']\n",
      "\n",
      "Trọng lượng của từng loại quả trong weights:\n",
      "[1.0, 2.0, 3.0, 4.0, 5.0, 6.0, 7.0, 8.0, 9.0, 10.0]\n",
      "\n",
      "Trọng lượng trung bình của từng loại quả:\n",
      "Fruit\n",
      "apple     7.0\n",
      "banana    4.5\n",
      "Name: Weight, dtype: float64\n"
     ]
    }
   ],
   "source": [
    "# 1. In danh sách các loại quả\n",
    "print(\"Danh sách loại quả trong fruit:\")\n",
    "print(fruit.tolist())\n",
    "\n",
    "# 2. In trọng lượng của từng loại quả\n",
    "print(\"\\nTrọng lượng của từng loại quả trong weights:\")\n",
    "print(weights.tolist())\n",
    "\n",
    "# 3. Tính trọng lượng trung bình của từng loại quả trong fruit\n",
    "fruit_weights = pd.DataFrame({'Fruit': fruit, 'Weight': weights})\n",
    "average_weights = fruit_weights.groupby('Fruit')['Weight'].mean()\n",
    "print(\"\\nTrọng lượng trung bình của từng loại quả:\")\n",
    "print(average_weights)\n"
   ]
  }
 ],
 "metadata": {
  "kernelspec": {
   "display_name": "Python 3",
   "language": "python",
   "name": "python3"
  },
  "language_info": {
   "codemirror_mode": {
    "name": "ipython",
    "version": 3
   },
   "file_extension": ".py",
   "mimetype": "text/x-python",
   "name": "python",
   "nbconvert_exporter": "python",
   "pygments_lexer": "ipython3",
   "version": "3.12.0"
  }
 },
 "nbformat": 4,
 "nbformat_minor": 2
}
