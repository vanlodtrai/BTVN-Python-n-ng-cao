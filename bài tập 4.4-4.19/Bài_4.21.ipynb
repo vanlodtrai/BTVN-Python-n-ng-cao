{
 "cells": [
  {
   "cell_type": "code",
   "execution_count": 1,
   "metadata": {},
   "outputs": [],
   "source": [
    "import pandas as pd\n"
   ]
  },
  {
   "cell_type": "code",
   "execution_count": 2,
   "metadata": {},
   "outputs": [
    {
     "name": "stdout",
     "output_type": "stream",
     "text": [
      "Thông tin file drinks.csv:\n",
      "<class 'pandas.core.frame.DataFrame'>\n",
      "Index: 193 entries, 0 to 192\n",
      "Data columns (total 6 columns):\n",
      " #   Column                        Non-Null Count  Dtype  \n",
      "---  ------                        --------------  -----  \n",
      " 0   country                       193 non-null    object \n",
      " 1   beer_servings                 193 non-null    int64  \n",
      " 2   spirit_servings               193 non-null    int64  \n",
      " 3   wine_servings                 193 non-null    int64  \n",
      " 4   total_litres_of_pure_alcohol  193 non-null    float64\n",
      " 5   continent                     170 non-null    object \n",
      "dtypes: float64(1), int64(3), object(2)\n",
      "memory usage: 10.6+ KB\n",
      "None\n"
     ]
    }
   ],
   "source": [
    "# Đọc dữ liệu từ file drinks.csv\n",
    "drinks = pd.read_csv(\"C:/Users/User/OneDrive/Tài liệu/GitHub/12_Duc_17A2/BTVN_Chương_4/drinks.csv\", index_col=0)\n",
    "\n",
    "# Hiển thị thông tin cơ bản\n",
    "print(\"Thông tin file drinks.csv:\")\n",
    "print(drinks.info())\n"
   ]
  },
  {
   "cell_type": "code",
   "execution_count": 3,
   "metadata": {},
   "outputs": [
    {
     "name": "stdout",
     "output_type": "stream",
     "text": [
      "Kiểu dữ liệu:\n",
      "<class 'pandas.core.frame.DataFrame'>\n",
      "Kích thước dữ liệu (shape): (193, 6)\n",
      "Danh sách các cột:\n",
      "['country', 'beer_servings', 'spirit_servings', 'wine_servings', 'total_litres_of_pure_alcohol', 'continent']\n"
     ]
    }
   ],
   "source": [
    "# Kiểu dữ liệu và kích thước\n",
    "print(\"Kiểu dữ liệu:\")\n",
    "print(type(drinks))\n",
    "print(\"Kích thước dữ liệu (shape):\", drinks.shape)\n",
    "\n",
    "# Danh sách các cột\n",
    "print(\"Danh sách các cột:\")\n",
    "print(drinks.columns.tolist())\n"
   ]
  },
  {
   "cell_type": "code",
   "execution_count": 4,
   "metadata": {},
   "outputs": [
    {
     "name": "stdout",
     "output_type": "stream",
     "text": [
      "5 dòng đầu tiên:\n",
      "       country  beer_servings  spirit_servings  wine_servings  \\\n",
      "0  Afghanistan              0                0              0   \n",
      "1      Albania             89              132             54   \n",
      "2      Algeria             25                0             14   \n",
      "3      Andorra            245              138            312   \n",
      "4       Angola            217               57             45   \n",
      "\n",
      "   total_litres_of_pure_alcohol continent  \n",
      "0                           0.0        AS  \n",
      "1                           4.9        EU  \n",
      "2                           0.7        AF  \n",
      "3                          12.4        EU  \n",
      "4                           5.9        AF  \n",
      "5 dòng cuối cùng:\n",
      "       country  beer_servings  spirit_servings  wine_servings  \\\n",
      "188  Venezuela            333              100              3   \n",
      "189    Vietnam            111                2              1   \n",
      "190      Yemen              6                0              0   \n",
      "191     Zambia             32               19              4   \n",
      "192   Zimbabwe             64               18              4   \n",
      "\n",
      "     total_litres_of_pure_alcohol continent  \n",
      "188                           7.7        SA  \n",
      "189                           2.0        AS  \n",
      "190                           0.1        AS  \n",
      "191                           2.5        AF  \n",
      "192                           4.7        AF  \n"
     ]
    }
   ],
   "source": [
    "# Xem 5 dòng đầu tiên\n",
    "print(\"5 dòng đầu tiên:\")\n",
    "print(drinks.head())\n",
    "\n",
    "# Xem 5 dòng cuối cùng\n",
    "print(\"5 dòng cuối cùng:\")\n",
    "print(drinks.tail())\n"
   ]
  },
  {
   "cell_type": "code",
   "execution_count": 5,
   "metadata": {},
   "outputs": [
    {
     "name": "stdout",
     "output_type": "stream",
     "text": [
      "Số lượng bia tiêu thụ trung bình ở mỗi châu lục:\n",
      "continent\n",
      "AF     61.471698\n",
      "AS     37.045455\n",
      "EU    193.777778\n",
      "OC     89.687500\n",
      "SA    175.083333\n",
      "Name: beer_servings, dtype: float64\n"
     ]
    }
   ],
   "source": [
    "# Tính trung bình số lượng bia tiêu thụ theo châu lục\n",
    "print(\"Số lượng bia tiêu thụ trung bình ở mỗi châu lục:\")\n",
    "print(drinks.groupby(\"continent\")[\"beer_servings\"].mean())\n"
   ]
  },
  {
   "cell_type": "code",
   "execution_count": 6,
   "metadata": {},
   "outputs": [
    {
     "name": "stdout",
     "output_type": "stream",
     "text": [
      "Thống kê tổng quát:\n",
      "       beer_servings  spirit_servings  wine_servings  \\\n",
      "count     193.000000       193.000000     193.000000   \n",
      "mean      106.160622        80.994819      49.450777   \n",
      "std       101.143103        88.284312      79.697598   \n",
      "min         0.000000         0.000000       0.000000   \n",
      "25%        20.000000         4.000000       1.000000   \n",
      "50%        76.000000        56.000000       8.000000   \n",
      "75%       188.000000       128.000000      59.000000   \n",
      "max       376.000000       438.000000     370.000000   \n",
      "\n",
      "       total_litres_of_pure_alcohol  \n",
      "count                    193.000000  \n",
      "mean                       4.717098  \n",
      "std                        3.773298  \n",
      "min                        0.000000  \n",
      "25%                        1.300000  \n",
      "50%                        4.200000  \n",
      "75%                        7.200000  \n",
      "max                       14.400000  \n"
     ]
    }
   ],
   "source": [
    "# Thống kê tổng quát\n",
    "print(\"Thống kê tổng quát:\")\n",
    "print(drinks.describe())\n"
   ]
  },
  {
   "cell_type": "code",
   "execution_count": 7,
   "metadata": {},
   "outputs": [
    {
     "name": "stdout",
     "output_type": "stream",
     "text": [
      "Số lượng các loại bia và rượu tiêu thụ trung bình ở mỗi châu lục:\n",
      "           beer_servings  wine_servings\n",
      "continent                              \n",
      "AF             61.471698      16.264151\n",
      "AS             37.045455       9.068182\n",
      "EU            193.777778     142.222222\n",
      "OC             89.687500      35.625000\n",
      "SA            175.083333      62.416667\n"
     ]
    }
   ],
   "source": [
    "print(\"Số lượng các loại bia và rượu tiêu thụ trung bình ở mỗi châu lục:\")\n",
    "print(drinks.groupby(\"continent\")[[\"beer_servings\", \"wine_servings\"]].mean())\n"
   ]
  },
  {
   "cell_type": "code",
   "execution_count": 8,
   "metadata": {},
   "outputs": [
    {
     "name": "stdout",
     "output_type": "stream",
     "text": [
      "Giá trị trung vị của bia và rượu tiêu thụ ở mỗi châu lục:\n",
      "           beer_servings  wine_servings\n",
      "continent                              \n",
      "AF                  32.0            2.0\n",
      "AS                  17.5            1.0\n",
      "EU                 219.0          128.0\n",
      "OC                  52.5            8.5\n",
      "SA                 162.5           12.0\n"
     ]
    }
   ],
   "source": [
    "print(\"Giá trị trung vị của bia và rượu tiêu thụ ở mỗi châu lục:\")\n",
    "print(drinks.groupby(\"continent\")[[\"beer_servings\", \"wine_servings\"]].median())\n"
   ]
  },
  {
   "cell_type": "code",
   "execution_count": 9,
   "metadata": {},
   "outputs": [
    {
     "name": "stdout",
     "output_type": "stream",
     "text": [
      "Số lượng rượu mạnh tiêu thụ trung bình, lớn nhất, nhỏ nhất:\n",
      "                 mean  max  min\n",
      "continent                      \n",
      "AF          16.339623  152    0\n",
      "AS          60.840909  326    0\n",
      "EU         132.555556  373    0\n",
      "OC          58.437500  254    0\n",
      "SA         114.750000  302   25\n"
     ]
    }
   ],
   "source": [
    "print(\"Số lượng rượu mạnh tiêu thụ trung bình, lớn nhất, nhỏ nhất:\")\n",
    "print(drinks.groupby(\"continent\")[\"spirit_servings\"].agg([\"mean\", \"max\", \"min\"]))\n"
   ]
  },
  {
   "cell_type": "code",
   "execution_count": 10,
   "metadata": {},
   "outputs": [
    {
     "name": "stdout",
     "output_type": "stream",
     "text": [
      "Sắp xếp theo số lượng bia tiêu thụ:\n",
      "            country  beer_servings  spirit_servings  wine_servings  \\\n",
      "0       Afghanistan              0                0              0   \n",
      "40     Cook Islands              0              254             74   \n",
      "79             Iran              0                0              0   \n",
      "90           Kuwait              0                0              0   \n",
      "97            Libya              0                0              0   \n",
      "..              ...            ...              ...            ...   \n",
      "135          Poland            343              215             56   \n",
      "65          Germany            346              117            175   \n",
      "62            Gabon            347               98             59   \n",
      "45   Czech Republic            361              170            134   \n",
      "117         Namibia            376                3              1   \n",
      "\n",
      "     total_litres_of_pure_alcohol continent  \n",
      "0                             0.0        AS  \n",
      "40                            5.9        OC  \n",
      "79                            0.0        AS  \n",
      "90                            0.0        AS  \n",
      "97                            0.0        AF  \n",
      "..                            ...       ...  \n",
      "135                          10.9        EU  \n",
      "65                           11.3        EU  \n",
      "62                            8.9        AF  \n",
      "45                           11.8        EU  \n",
      "117                           6.8        AF  \n",
      "\n",
      "[193 rows x 6 columns]\n",
      "5 quốc gia có lượng bia tiêu thụ nhiều nhất:\n",
      "            country  beer_servings  spirit_servings  wine_servings  \\\n",
      "117         Namibia            376                3              1   \n",
      "45   Czech Republic            361              170            134   \n",
      "62            Gabon            347               98             59   \n",
      "65          Germany            346              117            175   \n",
      "98        Lithuania            343              244             56   \n",
      "\n",
      "     total_litres_of_pure_alcohol continent  \n",
      "117                           6.8        AF  \n",
      "45                           11.8        EU  \n",
      "62                            8.9        AF  \n",
      "65                           11.3        EU  \n",
      "98                           12.9        EU  \n",
      "5 quốc gia có lượng bia tiêu thụ ít nhất:\n",
      "         country  beer_servings  spirit_servings  wine_servings  \\\n",
      "0    Afghanistan              0                0              0   \n",
      "13    Bangladesh              0                0              0   \n",
      "40  Cook Islands              0              254             74   \n",
      "46   North Korea              0                0              0   \n",
      "79          Iran              0                0              0   \n",
      "\n",
      "    total_litres_of_pure_alcohol continent  \n",
      "0                            0.0        AS  \n",
      "13                           0.0        AS  \n",
      "40                           5.9        OC  \n",
      "46                           0.0        AS  \n",
      "79                           0.0        AS  \n"
     ]
    }
   ],
   "source": [
    "# Sắp xếp tăng dần\n",
    "print(\"Sắp xếp theo số lượng bia tiêu thụ:\")\n",
    "print(drinks.sort_values(by=\"beer_servings\"))\n",
    "\n",
    "# 5 quốc gia có lượng bia tiêu thụ nhiều nhất\n",
    "print(\"5 quốc gia có lượng bia tiêu thụ nhiều nhất:\")\n",
    "print(drinks.nlargest(5, \"beer_servings\"))\n",
    "\n",
    "# 5 quốc gia có lượng bia tiêu thụ ít nhất\n",
    "print(\"5 quốc gia có lượng bia tiêu thụ ít nhất:\")\n",
    "print(drinks.nsmallest(5, \"beer_servings\"))\n"
   ]
  },
  {
   "cell_type": "code",
   "execution_count": null,
   "metadata": {},
   "outputs": [],
   "source": []
  }
 ],
 "metadata": {
  "kernelspec": {
   "display_name": "Python 3",
   "language": "python",
   "name": "python3"
  },
  "language_info": {
   "codemirror_mode": {
    "name": "ipython",
    "version": 3
   },
   "file_extension": ".py",
   "mimetype": "text/x-python",
   "name": "python",
   "nbconvert_exporter": "python",
   "pygments_lexer": "ipython3",
   "version": "3.12.0"
  }
 },
 "nbformat": 4,
 "nbformat_minor": 2
}
