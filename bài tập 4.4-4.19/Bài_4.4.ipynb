{
 "cells": [
  {
   "cell_type": "code",
   "execution_count": 1,
   "metadata": {},
   "outputs": [],
   "source": [
    "import pandas as pd"
   ]
  },
  {
   "cell_type": "code",
   "execution_count": null,
   "metadata": {},
   "outputs": [
    {
     "name": "stdout",
     "output_type": "stream",
     "text": [
      "Kết quả 1: Xóa các mục có mặt trong ser2 từ ser1\n",
      "0    1\n",
      "1    2\n",
      "2    3\n",
      "dtype: int64\n",
      "\n",
      "Kết quả 2: Lấy các mục không chung giữa ser1 và ser2\n",
      "0    1\n",
      "1    2\n",
      "2    3\n",
      "2    6\n",
      "3    7\n",
      "4    8\n",
      "dtype: int64\n"
     ]
    }
   ],
   "source": [
    "ser1 = pd.Series([1, 2, 3, 4, 5])\n",
    "ser2 = pd.Series([4, 5, 6, 7, 8])\n",
    "\n",
    "# 1. Từ ser1 xóa các mục có mặt trong ser2\n",
    "result1 = ser1[~ser1.isin(ser2)]  \n",
    "print(\"Kết quả 1: Xóa các mục có mặt trong ser2 từ ser1\")\n",
    "print(result1)\n",
    "\n",
    "# 2. Lấy tất cả các mục của ser1 và ser2 nhưng không nằm chung trong cả hai\n",
    "unique_items = pd.concat([ser1[~ser1.isin(ser2)], ser2[~ser2.isin(ser1)]])\n",
    "print(\"\\nKết quả 2: Lấy các mục không chung giữa ser1 và ser2\")\n",
    "print(unique_items)\n"
   ]
  }
 ],
 "metadata": {
  "kernelspec": {
   "display_name": "Python 3",
   "language": "python",
   "name": "python3"
  },
  "language_info": {
   "codemirror_mode": {
    "name": "ipython",
    "version": 3
   },
   "file_extension": ".py",
   "mimetype": "text/x-python",
   "name": "python",
   "nbconvert_exporter": "python",
   "pygments_lexer": "ipython3",
   "version": "3.12.0"
  }
 },
 "nbformat": 4,
 "nbformat_minor": 2
}
