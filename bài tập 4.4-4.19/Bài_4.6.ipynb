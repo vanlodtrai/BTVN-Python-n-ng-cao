{
 "cells": [
  {
   "cell_type": "code",
   "execution_count": 1,
   "metadata": {},
   "outputs": [],
   "source": [
    "import pandas as pd\n",
    "import numpy as np"
   ]
  },
  {
   "cell_type": "code",
   "execution_count": 6,
   "metadata": {},
   "outputs": [],
   "source": [
    "ser = pd.Series(np.take(list('abcdefgh'), np.random.randint(8, size=30)))\n"
   ]
  },
  {
   "cell_type": "markdown",
   "metadata": {},
   "source": [
    "#### Giải thích : Đoạn code này tạo một Series gồm 30 phần tử được chọn ngẫu nhiên từ danh sách ['a', 'b', ..., 'h']."
   ]
  },
  {
   "cell_type": "code",
   "execution_count": 7,
   "metadata": {},
   "outputs": [
    {
     "name": "stdout",
     "output_type": "stream",
     "text": [
      "Các giá trị và số lần xuất hiện:\n",
      "f    5\n",
      "g    5\n",
      "e    5\n",
      "h    4\n",
      "a    4\n",
      "b    4\n",
      "d    2\n",
      "c    1\n",
      "Name: count, dtype: int64\n"
     ]
    }
   ],
   "source": [
    "unique_vals = ser.value_counts()\n",
    "print(\"Các giá trị và số lần xuất hiện:\")\n",
    "print(unique_vals)\n"
   ]
  }
 ],
 "metadata": {
  "kernelspec": {
   "display_name": "Python 3",
   "language": "python",
   "name": "python3"
  },
  "language_info": {
   "codemirror_mode": {
    "name": "ipython",
    "version": 3
   },
   "file_extension": ".py",
   "mimetype": "text/x-python",
   "name": "python",
   "nbconvert_exporter": "python",
   "pygments_lexer": "ipython3",
   "version": "3.12.0"
  }
 },
 "nbformat": 4,
 "nbformat_minor": 2
}
