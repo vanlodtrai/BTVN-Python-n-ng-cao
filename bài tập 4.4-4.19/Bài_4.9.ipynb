{
 "cells": [
  {
   "cell_type": "code",
   "execution_count": 1,
   "metadata": {},
   "outputs": [],
   "source": [
    "import numpy as np\n",
    "import pandas as pd"
   ]
  },
  {
   "cell_type": "code",
   "execution_count": 2,
   "metadata": {},
   "outputs": [
    {
     "name": "stdout",
     "output_type": "stream",
     "text": [
      "0     3\n",
      "1     1\n",
      "2     1\n",
      "3     6\n",
      "4     8\n",
      "5     0\n",
      "6     9\n",
      "7     7\n",
      "8     6\n",
      "9     5\n",
      "10    2\n",
      "11    4\n",
      "12    5\n",
      "13    7\n",
      "14    4\n",
      "15    9\n",
      "16    8\n",
      "17    3\n",
      "18    2\n",
      "19    0\n",
      "dtype: int64\n"
     ]
    }
   ],
   "source": [
    "ser = pd.Series(np.random.random(20))\n",
    "\n",
    "# Chia thành 10 phần\n",
    "categories = pd.qcut(ser, q=10, labels=False)\n",
    "print(categories)\n"
   ]
  }
 ],
 "metadata": {
  "kernelspec": {
   "display_name": "Python 3",
   "language": "python",
   "name": "python3"
  },
  "language_info": {
   "codemirror_mode": {
    "name": "ipython",
    "version": 3
   },
   "file_extension": ".py",
   "mimetype": "text/x-python",
   "name": "python",
   "nbconvert_exporter": "python",
   "pygments_lexer": "ipython3",
   "version": "3.12.0"
  }
 },
 "nbformat": 4,
 "nbformat_minor": 2
}
