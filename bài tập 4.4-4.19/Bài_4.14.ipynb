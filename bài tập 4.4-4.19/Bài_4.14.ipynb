{
 "cells": [
  {
   "cell_type": "code",
   "execution_count": 1,
   "metadata": {},
   "outputs": [],
   "source": [
    "import numpy as np\n",
    "import pandas as pd"
   ]
  },
  {
   "cell_type": "code",
   "execution_count": 2,
   "metadata": {},
   "outputs": [
    {
     "name": "stdout",
     "output_type": "stream",
     "text": [
      "Kết quả ghép ser1 và ser2:\n",
      "   Square of ser1  Random values from ser2\n",
      "0               0                 0.067138\n",
      "1               1                 1.609192\n",
      "2               4                 2.152480\n",
      "3               9                 3.252035\n",
      "4              16                 4.528128\n",
      "5              25                 5.227845\n",
      "6              36                 6.285189\n",
      "7              49                 7.433420\n",
      "8              64                 8.851407\n",
      "9              81                 9.783955\n"
     ]
    }
   ],
   "source": [
    "\n",
    "\n",
    "# Tạo dữ liệu\n",
    "ser1 = pd.Series(range(10))\n",
    "ser2 = pd.Series(range(10) + np.random.random(10))  # Thêm giá trị ngẫu nhiên\n",
    "\n",
    "# Lấy giá trị bình phương từ ser1\n",
    "square_ser1 = ser1**2\n",
    "\n",
    "# Ghép ser1 (bình phương) và ser2\n",
    "combined_series = pd.concat([square_ser1, ser2], axis=1)\n",
    "combined_series.columns = ['Square of ser1', 'Random values from ser2']\n",
    "\n",
    "print(\"Kết quả ghép ser1 và ser2:\")\n",
    "print(combined_series)\n"
   ]
  }
 ],
 "metadata": {
  "kernelspec": {
   "display_name": "Python 3",
   "language": "python",
   "name": "python3"
  },
  "language_info": {
   "codemirror_mode": {
    "name": "ipython",
    "version": 3
   },
   "file_extension": ".py",
   "mimetype": "text/x-python",
   "name": "python",
   "nbconvert_exporter": "python",
   "pygments_lexer": "ipython3",
   "version": "3.12.0"
  }
 },
 "nbformat": 4,
 "nbformat_minor": 2
}
