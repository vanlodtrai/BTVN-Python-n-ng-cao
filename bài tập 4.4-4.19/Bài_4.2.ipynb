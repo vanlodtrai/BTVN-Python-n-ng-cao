{
 "cells": [
  {
   "cell_type": "code",
   "execution_count": 1,
   "metadata": {},
   "outputs": [
    {
     "name": "stdout",
     "output_type": "stream",
     "text": [
      "Giá trị đầu tiên (head):\n",
      "0    a\n",
      "1    b\n",
      "2    c\n",
      "3    d\n",
      "4    e\n",
      "dtype: object\n",
      "\n",
      "Giá trị cuối cùng (tail):\n",
      "4    e\n",
      "5    f\n",
      "6    g\n",
      "7    h\n",
      "8    i\n",
      "dtype: object\n"
     ]
    }
   ],
   "source": [
    "import pandas as pd\n",
    "import numpy as np\n",
    "\n",
    "# Tạo Series từ list hoặc numpy array\n",
    "ser = pd.Series(list('abcdefghi'))\n",
    "\n",
    "# In 5 giá trị đầu tiên (head) và 5 giá trị cuối cùng (tail)\n",
    "print(\"Giá trị đầu tiên (head):\")\n",
    "print(ser.head())  # Lấy 5 giá trị đầu tiên\n",
    "\n",
    "print(\"\\nGiá trị cuối cùng (tail):\")\n",
    "print(ser.tail())  # Lấy 5 giá trị cuối cùng\n"
   ]
  }
 ],
 "metadata": {
  "kernelspec": {
   "display_name": "Python 3",
   "language": "python",
   "name": "python3"
  },
  "language_info": {
   "codemirror_mode": {
    "name": "ipython",
    "version": 3
   },
   "file_extension": ".py",
   "mimetype": "text/x-python",
   "name": "python",
   "nbconvert_exporter": "python",
   "pygments_lexer": "ipython3",
   "version": "3.12.0"
  }
 },
 "nbformat": 4,
 "nbformat_minor": 2
}
