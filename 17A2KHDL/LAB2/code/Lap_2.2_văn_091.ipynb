{
 "cells": [
  {
   "cell_type": "code",
   "execution_count": 1,
   "metadata": {},
   "outputs": [
    {
     "data": {
      "text/plain": [
       "[[3.04, 3.39, 6.7],\n",
       " [5.8, 6.41, 6.62],\n",
       " [2.59, 3.57, 9.16],\n",
       " [3.81, 8.78, 9.24],\n",
       " [8.91, 9.64, 6.39]]"
      ]
     },
     "execution_count": 1,
     "metadata": {},
     "output_type": "execute_result"
    }
   ],
   "source": [
    "import csv\n",
    "\n",
    "#Đọc file CSV và lưu trữ dữu liệu vào một list\n",
    "file_path = 'C:/Users/User/OneDrive/Tài liệu/GitHub/12_Duc_17A2/BT_Lap/Lap_2/data/diem_hoc_phan.csv'\n",
    "data = []\n",
    "\n",
    "with open(file_path, newline='', encoding='utf-8') as csvfile:\n",
    "    reader = csv.reader(csvfile)\n",
    "    next(reader)  # Bỏ qua hàng đầu tiên (tiêu đề cột)\n",
    "    '''\n",
    "    Xử lý dữ liệu từ Mỗi hàng: Với mỗi hàng row trong file csv\n",
    "    code sẽ lấy phần tử chỉ số thứ 2 trở đi (row[2:]).\n",
    "    Điều này tương ứng với việc bỏ qua cột 'id' và 'tên sinh viên ',\n",
    "    '''\n",
    "    for row in reader:\n",
    "        #Chuyển đổi điểm số từ string sang float và thêm vào list\n",
    "        data.append([float(score) for score in row[2:]])\n",
    "\n",
    "#Hiển thị một phần của dữ liệu để kiểm tra\n",
    "data[:5]  # hiển thị 5 dòng đầu tiên"
   ]
  }
 ],
 "metadata": {
  "kernelspec": {
   "display_name": "Python 3",
   "language": "python",
   "name": "python3"
  },
  "language_info": {
   "codemirror_mode": {
    "name": "ipython",
    "version": 3
   },
   "file_extension": ".py",
   "mimetype": "text/x-python",
   "name": "python",
   "nbconvert_exporter": "python",
   "pygments_lexer": "ipython3",
   "version": "3.12.0"
  }
 },
 "nbformat": 4,
 "nbformat_minor": 2
}
