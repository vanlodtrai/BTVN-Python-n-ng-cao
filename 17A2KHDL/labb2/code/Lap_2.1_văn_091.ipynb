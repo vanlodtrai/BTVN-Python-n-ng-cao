{
 "cells": [
  {
   "cell_type": "markdown",
   "metadata": {},
   "source": [
    "#### Câu 1\n"
   ]
  },
  {
   "cell_type": "code",
   "execution_count": 1,
   "metadata": {},
   "outputs": [
    {
     "name": "stdout",
     "output_type": "stream",
     "text": [
      "Nhiệt độ trong tháng:\n",
      " [29.84 13.74 29.83 27.94 28.35 12.75 27.17 26.5  26.93 10.64 23.96 18.81\n",
      " 10.11 10.1  14.72 22.8  14.79 24.16 22.93 13.93 17.21 24.21 16.96 26.57\n",
      " 26.46 12.4  18.02 10.11 16.   26.25]\n",
      "Trung bình nhiệt độ trong tháng là: 20.139666666666663\n"
     ]
    }
   ],
   "source": [
    "import numpy as np\n",
    "\n",
    "nhiet_do = np.round(np.random.uniform(10.0, 30.0, size = 30),2)\n",
    "\n",
    "print(\"Nhiệt độ trong tháng:\\n\",nhiet_do)\n",
    "print(\"Trung bình nhiệt độ trong tháng là:\", np.mean(nhiet_do))"
   ]
  },
  {
   "cell_type": "markdown",
   "metadata": {},
   "source": [
    "#### Câu 2"
   ]
  },
  {
   "cell_type": "code",
   "execution_count": 2,
   "metadata": {},
   "outputs": [
    {
     "name": "stdout",
     "output_type": "stream",
     "text": [
      "Nhiệt độ ngày cao nhất trong tháng là: 29.84\n",
      "Nhiệt độ ngày thấp nhất trong tháng là: 10.1\n",
      "Ngày có nhiệt độ cao nhất trong tháng là: 1\n",
      "Ngày có nhiệt độ thấp nhất trong tháng là: 14\n"
     ]
    }
   ],
   "source": [
    "# tìm nhiệt dộ max and min\n",
    "max_temp = np.max(nhiet_do)\n",
    "min_temp = np.min(nhiet_do)\n",
    "\n",
    "# xác định ngày có nhiệt độ cao nhất và thấp nhất\n",
    "# chú ý: ngày được tính từ 1, không phai 0\n",
    "\n",
    "day_max_temp = np.argmax(nhiet_do) + 1\n",
    "day_min_temp = np.argmin(nhiet_do) + 1\n",
    "\n",
    "print(f\"Nhiệt độ ngày cao nhất trong tháng là:\", max_temp)\n",
    "print(f\"Nhiệt độ ngày thấp nhất trong tháng là:\", min_temp)\n",
    "print(f\"Ngày có nhiệt độ cao nhất trong tháng là:\", day_max_temp)\n",
    "print(f\"Ngày có nhiệt độ thấp nhất trong tháng là:\", day_min_temp)"
   ]
  },
  {
   "cell_type": "code",
   "execution_count": 3,
   "metadata": {},
   "outputs": [
    {
     "name": "stdout",
     "output_type": "stream",
     "text": [
      "Nhiệt độ chênh lệch giữa các ngày: 8\n",
      "Nhiệt độ chênh lệch co sự biến đổi nhiệt cao nhất là: 0.4299999999999997\n"
     ]
    }
   ],
   "source": [
    "# tạo mảng chứa nhiệt độ  của ngày hôm truớc ( trừ ngày cuối cùng) của mảng nhiet_do\n",
    "ngay_truoc = nhiet_do[:-1]\n",
    "\n",
    "# tao mảng chứa nhiệt độ của  ngày hôm sau ( trừ ngà đàu tiên ) của mảng nhiệt độ\n",
    "ngay_sau = nhiet_do[1:]\n",
    "\n",
    "# tính toán sự chênh lệch nhiệt độ giữa ngày hôm sau và ngày hôm trước\n",
    "chenh_lech = ngay_sau - ngay_truoc\n",
    "\n",
    "# xác định ngày có sự chênh lệch nhiệt độ lonws nhất\n",
    "dff_max = np.argmax(np.abs(chenh_lech))\n",
    "max_chenh_lech = chenh_lech[dff_max - 1]\n",
    "\n",
    "print(f\"Nhiệt độ chênh lệch giữa các ngày:\",dff_max)\n",
    "print(f\"Nhiệt độ chênh lệch co sự biến đổi nhiệt cao nhất là:\",max_chenh_lech)"
   ]
  },
  {
   "cell_type": "markdown",
   "metadata": {},
   "source": [
    "#### Câu 3"
   ]
  },
  {
   "cell_type": "code",
   "execution_count": 4,
   "metadata": {},
   "outputs": [
    {
     "name": "stdout",
     "output_type": "stream",
     "text": [
      "Các ngày có nhiệt độ trên 20°C: [ 1  3  4  5  7  8  9 11 16 18 19 22 24 25 30]\n",
      "Nhiệt độ các ngày 5, 10, 15, 20 và 25: [28.35 10.64 14.72 13.93 26.46]\n",
      "Nhiệt độ trên trung bình: [29.84 29.83 27.94 28.35 27.17 26.5  26.93 23.96 22.8  24.16 22.93 24.21\n",
      " 26.57 26.46 26.25]\n",
      "Nhiệt độ các ngày chẵn: [13.74 27.94 12.75 26.5  10.64 18.81 10.1  22.8  24.16 13.93 24.21 26.57\n",
      " 12.4  10.11 26.25]\n",
      "Nhiệt độ các ngày lẻ: [29.84 29.83 28.35 27.17 26.93 23.96 10.11 14.72 14.79 22.93 17.21 16.96\n",
      " 26.46 18.02 16.  ]\n"
     ]
    }
   ],
   "source": [
    "# Các ngày có nhiệt độ trên 20°C\n",
    "ngay_tren_20 = np.where(nhiet_do > 20)[0] + 1\n",
    "\n",
    "# Nhiệt độ của các ngày cụ thể\n",
    "ngay_can_kiem_tra = [5, 10, 15, 20, 25]\n",
    "nhiet_do_cac_ngay = nhiet_do[[d - 1 for d in ngay_can_kiem_tra]]\n",
    "\n",
    "# Nhiệt độ trên trung bình\n",
    "nhiet_do_tren_tb = nhiet_do[nhiet_do > np.mean(nhiet_do)]\n",
    "\n",
    "# Nhiệt độ của các ngày chẵn và lẻ\n",
    "nhiet_do_ngay_chan = nhiet_do[1::2]  \n",
    "nhiet_do_ngay_le = nhiet_do[0::2]  \n",
    "\n",
    "print(\"Các ngày có nhiệt độ trên 20°C:\", ngay_tren_20)\n",
    "print(\"Nhiệt độ các ngày 5, 10, 15, 20 và 25:\", nhiet_do_cac_ngay)\n",
    "print(\"Nhiệt độ trên trung bình:\", nhiet_do_tren_tb)\n",
    "print(\"Nhiệt độ các ngày chẵn:\", nhiet_do_ngay_chan)\n",
    "print(\"Nhiệt độ các ngày lẻ:\", nhiet_do_ngay_le)"
   ]
  }
 ],
 "metadata": {
  "kernelspec": {
   "display_name": "Python 3",
   "language": "python",
   "name": "python3"
  },
  "language_info": {
   "codemirror_mode": {
    "name": "ipython",
    "version": 3
   },
   "file_extension": ".py",
   "mimetype": "text/x-python",
   "name": "python",
   "nbconvert_exporter": "python",
   "pygments_lexer": "ipython3",
   "version": "3.12.0"
  }
 },
 "nbformat": 4,
 "nbformat_minor": 2
}
